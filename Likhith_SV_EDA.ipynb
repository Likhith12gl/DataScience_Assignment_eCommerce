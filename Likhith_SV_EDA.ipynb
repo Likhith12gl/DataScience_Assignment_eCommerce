# Importing necessary libraries
import pandas as pd
import numpy as np
import matplotlib.pyplot as plt
import seaborn as sns
from sklearn.preprocessing import StandardScaler
# Loading dta sheets
customers = pd.read_csv('Customers.csv')
products = pd.read_csv('Products.csv')
transactions = pd.read_csv('Transactions.csv')

# Checking first Rows to understand data
print(customers.head())
print(products.head())
print(transactions.head())
# Check for missing values
print(customers.isnull().sum())
print(products.isnull().sum())
print(transactions.isnull().sum())

# Check data types of each column
print(customers.dtypes)
print(products.dtypes)
print(transactions.dtypes)

# Get summary statistics for numerical data
print(customers.describe())
print(products.describe())
print(transactions.describe())
# Visualize missing data
sns.heatmap(customers.isnull(), cbar=False, cmap='viridis')
plt.show()
sns.heatmap(products.isnull(), cbar=False, cmap='viridis')
plt.show()
sns.heatmap(transactions.isnull(), cbar=False, cmap='viridis')
plt.show()
#  Top 5 Regions -  Most Customers
region_counts = customers['Region'].value_counts().head(5)
print(region_counts)

# Average Transaction Value
avg_transaction_value = transactions['TotalValue'].mean()
print(f'Average Transaction Value: {avg_transaction_value}')

# Most Popular Product Categories
category_counts = products['Category'].value_counts().head(5)
print(category_counts)

# Total Sales per Customer
customer_sales = transactions.groupby('CustomerID')['TotalValue'].sum().reset_index()
print(customer_sales.head())

# Transactions by Region
region_sales = transactions.merge(customers[['CustomerID', 'Region']], on='CustomerID', how='left')
region_sales = region_sales.groupby('Region')['TotalValue'].sum().reset_index()
print(region_sales)
# Transactions over time (Monthly sales)
transactions['TransactionDate'] = pd.to_datetime(transactions['TransactionDate'])
transactions['Month'] = transactions['TransactionDate'].dt.to_period('M')
monthly_sales = transactions.groupby('Month')['TotalValue'].sum()
monthly_sales.plot(kind='line')
plt.title('Total Sales Over Time')
plt.ylabel('Total Sales')
plt.show()

#  Top 5 most sold products
product_sales = transactions.groupby('ProductID')['Quantity'].sum().reset_index()
product_sales = product_sales.merge(products[['ProductID', 'ProductName']], on='ProductID')
top_products = product_sales.nlargest(5, 'Quantity')
print(top_products)

# Sales distribution by region
region_sales = transactions.merge(customers[['CustomerID', 'Region']], on='CustomerID', how='left')
plt.figure(figsize=(10, 6))
sns.boxplot(data=region_sales, x='Region', y='TotalValue')
plt.title('Sales Distribution by Region')
plt.show()
# 2. Top 5 most sold products
product_sales = transactions.groupby('ProductID')['Quantity'].sum().reset_index()
product_sales = product_sales.merge(products[['ProductID', 'ProductName']], on='ProductID')
top_products = product_sales.nlargest(5, 'Quantity')

# Print the top 5 most sold products
print(top_products)

# Plot the top 5 most sold products
plt.figure(figsize=(10, 6))
sns.barplot(data=top_products, x='ProductName', y='Quantity', hue='ProductName', legend=False)
plt.title('Top 5 Most Sold Products')
plt.xlabel('Product Name')
plt.ylabel('Quantity Sold')
plt.xticks(rotation=45, ha='right')  # Rotate product names for better readability
plt.tight_layout()
plt.show()
#total sales across all customers
total_sales = customer_sales['TotalValue'].sum()

#number of unique customers
num_customers = customer_sales['CustomerID'].nunique()

# average sales per customer
average_sales_per_customer = total_sales / num_customers

print(f'Average Sales per Customer: {average_sales_per_customer}')
